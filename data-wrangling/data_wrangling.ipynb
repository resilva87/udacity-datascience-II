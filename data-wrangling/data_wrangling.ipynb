{
 "cells": [
  {
   "cell_type": "markdown",
   "metadata": {},
   "source": [
    "# Data Wrangling Template"
   ]
  },
  {
   "cell_type": "markdown",
   "metadata": {},
   "source": [
    "## Gather"
   ]
  },
  {
   "cell_type": "code",
   "execution_count": 10,
   "metadata": {},
   "outputs": [],
   "source": [
    "import pandas as pd\n",
    "import zipfile"
   ]
  },
  {
   "cell_type": "code",
   "execution_count": 4,
   "metadata": {},
   "outputs": [],
   "source": [
    "with zipfile.ZipFile('armenian-online-job-postings.zip') as file:\n",
    "    file.extractall()"
   ]
  },
  {
   "cell_type": "code",
   "execution_count": 12,
   "metadata": {},
   "outputs": [],
   "source": [
    "df = pd.read_csv('online-job-postings.csv')"
   ]
  },
  {
   "cell_type": "code",
   "execution_count": 13,
   "metadata": {},
   "outputs": [
    {
     "name": "stdout",
     "output_type": "stream",
     "text": [
      "<class 'pandas.core.frame.DataFrame'>\n",
      "RangeIndex: 19001 entries, 0 to 19000\n",
      "Data columns (total 24 columns):\n",
      "jobpost             19001 non-null object\n",
      "date                19001 non-null object\n",
      "Title               18973 non-null object\n",
      "Company             18994 non-null object\n",
      "AnnouncementCode    1208 non-null object\n",
      "Term                7676 non-null object\n",
      "Eligibility         4930 non-null object\n",
      "Audience            640 non-null object\n",
      "StartDate           9675 non-null object\n",
      "Duration            10798 non-null object\n",
      "Location            18969 non-null object\n",
      "JobDescription      15110 non-null object\n",
      "JobRequirment       16479 non-null object\n",
      "RequiredQual        18517 non-null object\n",
      "Salary              9623 non-null object\n",
      "ApplicationP        18941 non-null object\n",
      "OpeningDate         18295 non-null object\n",
      "Deadline            18936 non-null object\n",
      "Notes               2211 non-null object\n",
      "AboutC              12470 non-null object\n",
      "Attach              1559 non-null object\n",
      "Year                19001 non-null int64\n",
      "Month               19001 non-null int64\n",
      "IT                  19001 non-null bool\n",
      "dtypes: bool(1), int64(2), object(21)\n",
      "memory usage: 3.4+ MB\n"
     ]
    }
   ],
   "source": [
    "df.info()"
   ]
  },
  {
   "cell_type": "markdown",
   "metadata": {},
   "source": [
    "## Assess"
   ]
  },
  {
   "cell_type": "markdown",
   "metadata": {},
   "source": [
    "## Clean"
   ]
  },
  {
   "cell_type": "markdown",
   "metadata": {},
   "source": [
    "### Define"
   ]
  },
  {
   "cell_type": "markdown",
   "metadata": {},
   "source": [
    "- Select all nondescriptive and misspelled column headers (ApplicationP, AboutC, RequiredQual, JobRequirment) and replace them with full words (ApplicationProcedure, AboutCompany, RequiredQualifications, JobRequirements)\n",
    "- Select all records in the StartDate column that have \"As soon as possible\", \"Immediately\", etc. and replace the text in those cells with \"ASAP\""
   ]
  },
  {
   "cell_type": "markdown",
   "metadata": {},
   "source": [
    "### Code "
   ]
  },
  {
   "cell_type": "code",
   "execution_count": 15,
   "metadata": {},
   "outputs": [],
   "source": [
    "df_clean = df.copy()"
   ]
  },
  {
   "cell_type": "code",
   "execution_count": 16,
   "metadata": {},
   "outputs": [],
   "source": [
    "# Task 1\n",
    "df_clean = df_clean.rename(columns={'ApplicationP': 'ApplicationProcedure',\n",
    "                                    'AboutC': 'AboutCompany',\n",
    "                                    'RequiredQual': 'RequiredQualifications',\n",
    "                                    'JobRequirment': 'JobRequirements'})"
   ]
  },
  {
   "cell_type": "code",
   "execution_count": 17,
   "metadata": {},
   "outputs": [],
   "source": [
    "asap_list = ['Immediately', 'As soon as possible', 'Upon hiring',\n",
    "             'Immediate', 'Immediate employment', 'As soon as possible.', 'Immediate job opportunity',\n",
    "             '\"Immediate employment, after passing the interview.\"',\n",
    "             'ASAP preferred', 'Employment contract signature date',\n",
    "             'Immediate employment opportunity', 'Immidiately', 'ASA',\n",
    "             'Asap', '\"The position is open immediately but has a flexible start date depending on the candidates earliest availability.\"',\n",
    "             'Immediately upon agreement', '20 November 2014 or ASAP',\n",
    "             'immediately', 'Immediatelly',\n",
    "             '\"Immediately upon selection or no later than November 15, 2009.\"',\n",
    "             'Immediate job opening', 'Immediate hiring', 'Upon selection',\n",
    "             'As soon as practical', 'Immadiate', 'As soon as posible',\n",
    "             'Immediately with 2 months probation period',\n",
    "             '12 November 2012 or ASAP', 'Immediate employment after passing the interview',\n",
    "             'Immediately/ upon agreement', '01 September 2014 or ASAP',\n",
    "             'Immediately or as per agreement', 'as soon as possible',\n",
    "             'As soon as Possible', 'in the nearest future', 'immediate',\n",
    "             '01 April 2014 or ASAP', 'Immidiatly', 'Urgent',\n",
    "             'Immediate or earliest possible', 'Immediate hire',\n",
    "             'Earliest  possible', 'ASAP with 3 months probation period.',\n",
    "             'Immediate employment opportunity.', 'Immediate employment.',\n",
    "             'Immidietly', 'Imminent', 'September 2014 or ASAP', 'Imediately']\n",
    "\n",
    "for value in asap_list:\n",
    "    df_clean.StartDate.replace(value, 'ASAP', inplace=True)"
   ]
  },
  {
   "cell_type": "markdown",
   "metadata": {},
   "source": [
    "### Test"
   ]
  },
  {
   "cell_type": "code",
   "execution_count": 25,
   "metadata": {},
   "outputs": [
    {
     "data": {
      "text/plain": [
       "ASAP                                                                                                                        6856\n",
       "01 September 2012                                                                                                             31\n",
       "March 2006                                                                                                                    27\n",
       "November 2006                                                                                                                 22\n",
       "January 2010                                                                                                                  19\n",
       "February 2014                                                                                                                 17\n",
       "01 February 2005                                                                                                              17\n",
       "TBD                                                                                                                           16\n",
       "September 2010                                                                                                                16\n",
       "February 2011                                                                                                                 16\n",
       "September 2008                                                                                                                15\n",
       "March 2011                                                                                                                    15\n",
       "01 February 2015                                                                                                              14\n",
       "01 July 2014                                                                                                                  14\n",
       "February 2007                                                                                                                 14\n",
       "01 September 2010                                                                                                             13\n",
       "01 March 2006                                                                                                                 13\n",
       "January 2016                                                                                                                  13\n",
       "01 September 2008                                                                                                             13\n",
       "01 March 2012                                                                                                                 12\n",
       "September 2013                                                                                                                12\n",
       "01 April 2014                                                                                                                 12\n",
       "01 October 2008                                                                                                               12\n",
       "Fall 2010                                                                                                                     12\n",
       "01 October 2012                                                                                                               12\n",
       "June 2008                                                                                                                     12\n",
       "February 2008                                                                                                                 11\n",
       "01 November 2007                                                                                                              11\n",
       "01 September 2013                                                                                                             11\n",
       "01 September 2004                                                                                                             11\n",
       "                                                                                                                            ... \n",
       "20 September 2004                                                                                                              1\n",
       "October                                                                                                                        1\n",
       "11 July 2004                                                                                                                   1\n",
       "01 March 2015 (preferably)                                                                                                     1\n",
       "06 March 2006                                                                                                                  1\n",
       "30 January 2006                                                                                                                1\n",
       "16 May 2006                                                                                                                    1\n",
       "Beginning of March 2006                                                                                                        1\n",
       "08 July  2005, 10:00                                                                                                           1\n",
       "February 28, 2011 or later                                                                                                     1\n",
       "February  2007                                                                                                                 1\n",
       "14 September 2015                                                                                                              1\n",
       "19 February  2007                                                                                                              1\n",
       "No later than 30 September 2013                                                                                                1\n",
       "Fellowships will begin in August 2005 and will be\\r\\ncompleted within 10 months                                                1\n",
       "Courses start on September 1, 2009.                                                                                            1\n",
       "Mid January                                                                                                                    1\n",
       "18 April 2005                                                                                                                  1\n",
       "20 August 2009                                                                                                                 1\n",
       "Mid May                                                                                                                        1\n",
       "17 July 2006                                                                                                                   1\n",
       "First contract will be concluded for up to 3 months,\\r\\nand then the successful candidate will be hired for longer term.       1\n",
       "21 October 2004                                                                                                                1\n",
       "30 July 2008                                                                                                                   1\n",
       "20 October 2010                                                                                                                1\n",
       "23 February 2015                                                                                                               1\n",
       "20 July 2008                                                                                                                   1\n",
       "17 June 2013                                                                                                                   1\n",
       "July, 2004                                                                                                                     1\n",
       "24 August 2008                                                                                                                 1\n",
       "Name: StartDate, Length: 1140, dtype: int64"
      ]
     },
     "execution_count": 25,
     "metadata": {},
     "output_type": "execute_result"
    }
   ],
   "source": [
    "df_clean.StartDate.value_counts()"
   ]
  },
  {
   "cell_type": "code",
   "execution_count": 34,
   "metadata": {},
   "outputs": [],
   "source": [
    "for phrase in asap_list:\n",
    "    assert phrase not in df_clean.StartDate.values"
   ]
  },
  {
   "cell_type": "code",
   "execution_count": null,
   "metadata": {},
   "outputs": [],
   "source": []
  }
 ],
 "metadata": {
  "kernelspec": {
   "display_name": "Python 3",
   "language": "python",
   "name": "python3"
  },
  "language_info": {
   "codemirror_mode": {
    "name": "ipython",
    "version": 3
   },
   "file_extension": ".py",
   "mimetype": "text/x-python",
   "name": "python",
   "nbconvert_exporter": "python",
   "pygments_lexer": "ipython3",
   "version": "3.6.3"
  }
 },
 "nbformat": 4,
 "nbformat_minor": 2
}
