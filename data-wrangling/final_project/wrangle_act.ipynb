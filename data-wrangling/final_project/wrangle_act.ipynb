{
 "cells": [
  {
   "cell_type": "markdown",
   "metadata": {},
   "source": [
    "# Introdução"
   ]
  },
  {
   "cell_type": "markdown",
   "metadata": {},
   "source": [
    "# Dependências"
   ]
  },
  {
   "cell_type": "code",
   "execution_count": null,
   "metadata": {},
   "outputs": [],
   "source": [
    "import sys\n",
    "!{sys.executable} -m pip install pandas\n",
    "!{sys.executable} -m pip install numpy\n",
    "!{sys.executable} -m pip install tweepy\n",
    "!{sys.executable} -m pip install requests"
   ]
  },
  {
   "cell_type": "code",
   "execution_count": 200,
   "metadata": {
    "collapsed": true
   },
   "outputs": [],
   "source": [
    "import pandas as pd\n",
    "import pandas.api.types as ptypes\n",
    "import numpy as np\n",
    "import requests\n",
    "import tweepy\n",
    "\n",
    "import json\n",
    "import os\n",
    "%matplotlib inline"
   ]
  },
  {
   "cell_type": "markdown",
   "metadata": {},
   "source": [
    "# Coleta"
   ]
  },
  {
   "cell_type": "markdown",
   "metadata": {},
   "source": [
    "## Previsões"
   ]
  },
  {
   "cell_type": "code",
   "execution_count": 284,
   "metadata": {
    "collapsed": true
   },
   "outputs": [],
   "source": [
    "predictions_url = 'https://d17h27t6h515a5.cloudfront.net/topher/2017/August/599fd2ad_image-predictions/image-predictions.tsv'\n",
    "filename = 'image_predictions.tsv'\n",
    "if not os.path.exists(filename):\n",
    "    response = requests.get(predictions_url)\n",
    "    with open(filename, 'wb') as file:\n",
    "        file.write(response.content)"
   ]
  },
  {
   "cell_type": "code",
   "execution_count": 285,
   "metadata": {
    "collapsed": true
   },
   "outputs": [],
   "source": [
    "df_predictions = pd.read_csv('image_predictions.tsv', sep='\\t')\n",
    "df_predictions_clean = df_predictions.copy()"
   ]
  },
  {
   "cell_type": "markdown",
   "metadata": {},
   "source": [
    "## Tweets"
   ]
  },
  {
   "cell_type": "code",
   "execution_count": 286,
   "metadata": {
    "collapsed": true
   },
   "outputs": [],
   "source": [
    "df_tweets = pd.read_csv('twitter-archive-enhanced.csv')\n",
    "df_tweets_clean = df_tweets.copy()"
   ]
  },
  {
   "cell_type": "markdown",
   "metadata": {},
   "source": [
    "## Contagem de retweets e favoritos"
   ]
  },
  {
   "cell_type": "code",
   "execution_count": null,
   "metadata": {},
   "outputs": [],
   "source": [
    "consumer_key = os.environ['TWITTER_CONSUMER_KEY']\n",
    "consumer_secret = os.environ['TWITTER_CONSUMER_SECRET']\n",
    "access_token = os.environ['TWITTER_ACCESS_TOKEN']\n",
    "access_token_secret = os.environ['TWITTER_ACCESS_TOKEN_SECRET']\n",
    "\n",
    "auth = tweepy.OAuthHandler(consumer_key, consumer_secret)\n",
    "auth.set_access_token(access_token, access_token_secret)\n",
    "\n",
    "twitter_api = tweepy.API(auth, wait_on_rate_limit=True, wait_on_rate_limit_notify=True)"
   ]
  },
  {
   "cell_type": "code",
   "execution_count": 204,
   "metadata": {
    "collapsed": true
   },
   "outputs": [],
   "source": [
    "# Função para mapear o resultado de cada chamada API para um resultado JSON\n",
    "def get_retweet_counts(tweet_id):\n",
    "    try:\n",
    "        tweet_status = twitter_api.get_status(tweet_id, tweet_mode='extended')\n",
    "        return tweet_status._json\n",
    "    except tweepy.TweepError:\n",
    "        pass"
   ]
  },
  {
   "cell_type": "code",
   "execution_count": 287,
   "metadata": {
    "collapsed": true
   },
   "outputs": [],
   "source": [
    "filename = 'tweet_json.txt'\n",
    "\n",
    "if not os.path.exists(filename):\n",
    "    tweet_counts = df_tweets_clean['tweet_id'].apply(lambda tweet_id: get_retweet_counts(tweet_id))\n",
    "    with open(filename, 'w+') as handle:\n",
    "        for tweet_count in tweet_counts:\n",
    "            handle.write(json.dumps(tweet_count) + '\\n')\n",
    "\n",
    "tweet_data = []\n",
    "with open(filename, 'r') as handle:\n",
    "    for line in handle:\n",
    "        tweet_count = json.loads(line)\n",
    "        tweet_data.append(tweet_count)"
   ]
  },
  {
   "cell_type": "code",
   "execution_count": 288,
   "metadata": {
    "collapsed": true
   },
   "outputs": [],
   "source": [
    "filtered_tweet_data = list(filter(lambda r: r is not None, tweet_data))\n",
    "df_tweet_data_from_api = pd.DataFrame(filtered_tweet_data)\n",
    "df_tweet_counts_clean = df_tweet_data_from_api[['id', 'favorite_count', 'retweet_count']].copy()"
   ]
  },
  {
   "cell_type": "markdown",
   "metadata": {},
   "source": [
    "# Fusão dos dados de tweet e contagem de retweet e favoritos"
   ]
  },
  {
   "cell_type": "code",
   "execution_count": 289,
   "metadata": {
    "collapsed": true
   },
   "outputs": [],
   "source": [
    "df_tweet_counts_clean = df_tweet_counts_clean.rename(columns={'id': 'tweet_id'})\n",
    "df_tweets_clean = pd.merge(df_tweets_clean, df_tweet_counts_clean, how='left', on='tweet_id')"
   ]
  },
  {
   "cell_type": "markdown",
   "metadata": {},
   "source": [
    "# Avaliação"
   ]
  },
  {
   "cell_type": "markdown",
   "metadata": {},
   "source": [
    "## Estrutura do DataFrame de previsões"
   ]
  },
  {
   "cell_type": "code",
   "execution_count": 290,
   "metadata": {},
   "outputs": [
    {
     "name": "stdout",
     "output_type": "stream",
     "text": [
      "<class 'pandas.core.frame.DataFrame'>\n",
      "RangeIndex: 2075 entries, 0 to 2074\n",
      "Data columns (total 12 columns):\n",
      "tweet_id    2075 non-null int64\n",
      "jpg_url     2075 non-null object\n",
      "img_num     2075 non-null int64\n",
      "p1          2075 non-null object\n",
      "p1_conf     2075 non-null float64\n",
      "p1_dog      2075 non-null bool\n",
      "p2          2075 non-null object\n",
      "p2_conf     2075 non-null float64\n",
      "p2_dog      2075 non-null bool\n",
      "p3          2075 non-null object\n",
      "p3_conf     2075 non-null float64\n",
      "p3_dog      2075 non-null bool\n",
      "dtypes: bool(3), float64(3), int64(2), object(4)\n",
      "memory usage: 152.1+ KB\n"
     ]
    }
   ],
   "source": [
    "df_predictions_clean.info()"
   ]
  },
  {
   "cell_type": "markdown",
   "metadata": {},
   "source": [
    "## Estrutura do DataFrame de tweets"
   ]
  },
  {
   "cell_type": "code",
   "execution_count": 291,
   "metadata": {},
   "outputs": [
    {
     "name": "stdout",
     "output_type": "stream",
     "text": [
      "<class 'pandas.core.frame.DataFrame'>\n",
      "Int64Index: 2356 entries, 0 to 2355\n",
      "Data columns (total 19 columns):\n",
      "tweet_id                      2356 non-null int64\n",
      "in_reply_to_status_id         78 non-null float64\n",
      "in_reply_to_user_id           78 non-null float64\n",
      "timestamp                     2356 non-null object\n",
      "source                        2356 non-null object\n",
      "text                          2356 non-null object\n",
      "retweeted_status_id           181 non-null float64\n",
      "retweeted_status_user_id      181 non-null float64\n",
      "retweeted_status_timestamp    181 non-null object\n",
      "expanded_urls                 2297 non-null object\n",
      "rating_numerator              2356 non-null int64\n",
      "rating_denominator            2356 non-null int64\n",
      "name                          2356 non-null object\n",
      "doggo                         2356 non-null object\n",
      "floofer                       2356 non-null object\n",
      "pupper                        2356 non-null object\n",
      "puppo                         2356 non-null object\n",
      "favorite_count                2340 non-null float64\n",
      "retweet_count                 2340 non-null float64\n",
      "dtypes: float64(6), int64(3), object(10)\n",
      "memory usage: 368.1+ KB\n"
     ]
    }
   ],
   "source": [
    "df_tweets_clean.info()"
   ]
  },
  {
   "cell_type": "markdown",
   "metadata": {},
   "source": [
    "## Identificação de Retweets"
   ]
  },
  {
   "cell_type": "code",
   "execution_count": 292,
   "metadata": {},
   "outputs": [
    {
     "data": {
      "text/plain": [
       "181"
      ]
     },
     "execution_count": 292,
     "metadata": {},
     "output_type": "execute_result"
    }
   ],
   "source": [
    "df_retweets = df_tweets_clean[df_tweets_clean.retweeted_status_user_id.notnull()]\n",
    "df_retweets.shape[0]"
   ]
  },
  {
   "cell_type": "markdown",
   "metadata": {},
   "source": [
    "## Denominador com valor abaixo de 10"
   ]
  },
  {
   "cell_type": "code",
   "execution_count": 293,
   "metadata": {},
   "outputs": [
    {
     "data": {
      "text/plain": [
       "3"
      ]
     },
     "execution_count": 293,
     "metadata": {},
     "output_type": "execute_result"
    }
   ],
   "source": [
    "df_denominator_below_10 = df_tweets_clean[df_tweets_clean.rating_denominator < 10]\n",
    "df_denominator_below_10.shape[0]"
   ]
  },
  {
   "cell_type": "markdown",
   "metadata": {},
   "source": [
    "## Denominador com valor acima de 10"
   ]
  },
  {
   "cell_type": "code",
   "execution_count": 294,
   "metadata": {},
   "outputs": [
    {
     "data": {
      "text/plain": [
       "20"
      ]
     },
     "execution_count": 294,
     "metadata": {},
     "output_type": "execute_result"
    }
   ],
   "source": [
    "df_denominator_above_10 = df_tweets_clean[df_tweets_clean.rating_denominator > 10]\n",
    "df_denominator_above_10.shape[0]"
   ]
  },
  {
   "cell_type": "markdown",
   "metadata": {},
   "source": [
    "# Documentação dos Problemas de Qualidade\n",
    "\n",
    "## Problemas de Qualidade\n",
    "\n",
    "1. 181 tweets são retweets (seção \"Identificação de Retweets\")\n",
    "2. Tipo das colunas \"in_reply_to_status_id\", \"in_reply_to_user_id\", \"retweeted_status_id\", \"retweeted_status_user_id\" deve ser alterado de float64 para int64 (seção \"Estrutura do DataFrame de tweets\")\n",
    "3. Tipo das colunas \"favorite_count\" e \"retweet_count\" deve ser alterado de float64 para int64, após fusão dos dados (seção \"Estrutura do DataFrame de tweets\")\n",
    "4. Tipo das colunas \"timestamp\" e \"retweeted_status_timestamp\" deve ser alterado de string (object) para datetime\n",
    "5. 3 tweets com denominador abaixo de 10 (seção \"Denominador com valor abaixo de 10\")\n",
    "6. 20 tweets com denominador acima de 10 (seção \"Denominador com valor acima de 10\")\n",
    "7. Alguns tweets não possuem predições (**Não pode ser limpo**)\n",
    "8. Previsões serão duplicadas após arrumar o DataFrame de previsões (seção \"Problemas de Arrumação\" (1))\n",
    "\n",
    "## Problemas de Arrumação\n",
    "\n",
    "1. DataFrame com as previsões contem 9 colunas relacionadas aos valores de previsão, onde apenas 3 colunas devem ser utilizadas para normalizar estes valores (previsão, intervalo de confiança e valor booleano indicando se a previsão é uma raça de cachorro) (seção \"Estrutura do DataFrame de previsões\")\n",
    "2. DataFrame com os tweets contem 4 colunas relacionadas ao \"estágio\" do animal, podendo ser normalizada para apenas uma coluna \"estágio\" (seção \"Estrutura do DataFrame de tweets\")"
   ]
  },
  {
   "cell_type": "markdown",
   "metadata": {},
   "source": [
    "# Limpeza"
   ]
  },
  {
   "cell_type": "markdown",
   "metadata": {},
   "source": [
    "## Problemas de Qualidade"
   ]
  },
  {
   "cell_type": "markdown",
   "metadata": {},
   "source": [
    "### 1. Descartar retweets (não são o foco da análise)"
   ]
  },
  {
   "cell_type": "code",
   "execution_count": 295,
   "metadata": {},
   "outputs": [
    {
     "name": "stdout",
     "output_type": "stream",
     "text": [
      "<class 'pandas.core.frame.DataFrame'>\n",
      "Int64Index: 2175 entries, 0 to 2355\n",
      "Data columns (total 19 columns):\n",
      "tweet_id                      2175 non-null int64\n",
      "in_reply_to_status_id         78 non-null float64\n",
      "in_reply_to_user_id           78 non-null float64\n",
      "timestamp                     2175 non-null object\n",
      "source                        2175 non-null object\n",
      "text                          2175 non-null object\n",
      "retweeted_status_id           0 non-null float64\n",
      "retweeted_status_user_id      0 non-null float64\n",
      "retweeted_status_timestamp    0 non-null object\n",
      "expanded_urls                 2117 non-null object\n",
      "rating_numerator              2175 non-null int64\n",
      "rating_denominator            2175 non-null int64\n",
      "name                          2175 non-null object\n",
      "doggo                         2175 non-null object\n",
      "floofer                       2175 non-null object\n",
      "pupper                        2175 non-null object\n",
      "puppo                         2175 non-null object\n",
      "favorite_count                2171 non-null float64\n",
      "retweet_count                 2171 non-null float64\n",
      "dtypes: float64(6), int64(3), object(10)\n",
      "memory usage: 339.8+ KB\n"
     ]
    }
   ],
   "source": [
    "df_tweets_clean = df_tweets_clean[df_tweets_clean.retweeted_status_user_id.isnull()]\n",
    "df_tweets_clean.info()"
   ]
  },
  {
   "cell_type": "markdown",
   "metadata": {},
   "source": [
    "#### Teste"
   ]
  },
  {
   "cell_type": "code",
   "execution_count": 296,
   "metadata": {
    "collapsed": true
   },
   "outputs": [],
   "source": [
    "assert len(df_tweets_clean[df_tweets_clean.retweeted_status_user_id.notnull()]) == 0"
   ]
  },
  {
   "cell_type": "markdown",
   "metadata": {},
   "source": [
    "### 2. Ajustar tipo de dados das colunas \"in_reply_to_status_id\", \"in_reply_to_user_id\", \"retweeted_status_id\" e \"retweeted_status_user_id\" (float para int)"
   ]
  },
  {
   "cell_type": "code",
   "execution_count": 297,
   "metadata": {},
   "outputs": [
    {
     "name": "stdout",
     "output_type": "stream",
     "text": [
      "<class 'pandas.core.frame.DataFrame'>\n",
      "Int64Index: 2175 entries, 0 to 2355\n",
      "Data columns (total 19 columns):\n",
      "tweet_id                      2175 non-null int64\n",
      "in_reply_to_status_id         2175 non-null int64\n",
      "in_reply_to_user_id           2175 non-null int64\n",
      "timestamp                     2175 non-null object\n",
      "source                        2175 non-null object\n",
      "text                          2175 non-null object\n",
      "retweeted_status_id           2175 non-null int64\n",
      "retweeted_status_user_id      2175 non-null int64\n",
      "retweeted_status_timestamp    0 non-null object\n",
      "expanded_urls                 2117 non-null object\n",
      "rating_numerator              2175 non-null int64\n",
      "rating_denominator            2175 non-null int64\n",
      "name                          2175 non-null object\n",
      "doggo                         2175 non-null object\n",
      "floofer                       2175 non-null object\n",
      "pupper                        2175 non-null object\n",
      "puppo                         2175 non-null object\n",
      "favorite_count                2171 non-null float64\n",
      "retweet_count                 2171 non-null float64\n",
      "dtypes: float64(2), int64(7), object(10)\n",
      "memory usage: 339.8+ KB\n"
     ]
    }
   ],
   "source": [
    "df_tweets_clean.in_reply_to_status_id = df_tweets_clean.in_reply_to_status_id.fillna(0).astype(int)\n",
    "df_tweets_clean.in_reply_to_user_id = df_tweets_clean.in_reply_to_user_id.fillna(0).astype(int)\n",
    "df_tweets_clean.retweeted_status_id = df_tweets_clean.retweeted_status_id.fillna(0).astype(int)\n",
    "df_tweets_clean.retweeted_status_user_id = df_tweets_clean.retweeted_status_user_id.fillna(0).astype(int)\n",
    "df_tweets_clean.info()"
   ]
  },
  {
   "cell_type": "markdown",
   "metadata": {},
   "source": [
    "#### Teste"
   ]
  },
  {
   "cell_type": "code",
   "execution_count": 298,
   "metadata": {
    "collapsed": true
   },
   "outputs": [],
   "source": [
    "assert len(df_tweets_clean[df_tweets_clean.in_reply_to_status_id.isnull()]) == 0\n",
    "assert len(df_tweets_clean[df_tweets_clean.in_reply_to_user_id.isnull()]) == 0\n",
    "assert len(df_tweets_clean[df_tweets_clean.retweeted_status_id.isnull()]) == 0\n",
    "assert len(df_tweets_clean[df_tweets_clean.retweeted_status_user_id.isnull()]) == 0\n",
    "\n",
    "assert ptypes.is_integer_dtype(df_tweets_clean.in_reply_to_status_id)\n",
    "assert ptypes.is_integer_dtype(df_tweets_clean.in_reply_to_user_id)\n",
    "assert ptypes.is_integer_dtype(df_tweets_clean.retweeted_status_id)\n",
    "assert ptypes.is_integer_dtype(df_tweets_clean.retweeted_status_user_id)"
   ]
  },
  {
   "cell_type": "markdown",
   "metadata": {},
   "source": [
    "### 3. Ajustar tipo de dados das colunas \"favorite_count\" e \"retweet_count\" (float para int)"
   ]
  },
  {
   "cell_type": "code",
   "execution_count": 299,
   "metadata": {
    "collapsed": true
   },
   "outputs": [],
   "source": [
    "df_tweets_clean.favorite_count = df_tweets_clean.favorite_count.fillna(0).astype(int)\n",
    "df_tweets_clean.retweet_count = df_tweets_clean.retweet_count.fillna(0).astype(int)"
   ]
  },
  {
   "cell_type": "markdown",
   "metadata": {},
   "source": [
    "#### Teste"
   ]
  },
  {
   "cell_type": "code",
   "execution_count": 300,
   "metadata": {
    "collapsed": true
   },
   "outputs": [],
   "source": [
    "assert len(df_tweets_clean[df_tweets_clean.favorite_count.isnull()]) == 0\n",
    "assert len(df_tweets_clean[df_tweets_clean.retweet_count.isnull()]) == 0\n",
    "\n",
    "assert ptypes.is_integer_dtype(df_tweets_clean.favorite_count)\n",
    "assert ptypes.is_integer_dtype(df_tweets_clean.retweet_count)"
   ]
  },
  {
   "cell_type": "markdown",
   "metadata": {},
   "source": [
    "### 4. Ajustar tipo de dados das colunas \"timestamp\" e \"retweeted_status_timestamp\" (string para datetime)"
   ]
  },
  {
   "cell_type": "code",
   "execution_count": 301,
   "metadata": {},
   "outputs": [
    {
     "name": "stdout",
     "output_type": "stream",
     "text": [
      "<class 'pandas.core.frame.DataFrame'>\n",
      "Int64Index: 2175 entries, 0 to 2355\n",
      "Data columns (total 19 columns):\n",
      "tweet_id                      2175 non-null int64\n",
      "in_reply_to_status_id         2175 non-null int64\n",
      "in_reply_to_user_id           2175 non-null int64\n",
      "timestamp                     2175 non-null datetime64[ns]\n",
      "source                        2175 non-null object\n",
      "text                          2175 non-null object\n",
      "retweeted_status_id           2175 non-null int64\n",
      "retweeted_status_user_id      2175 non-null int64\n",
      "retweeted_status_timestamp    0 non-null datetime64[ns]\n",
      "expanded_urls                 2117 non-null object\n",
      "rating_numerator              2175 non-null int64\n",
      "rating_denominator            2175 non-null int64\n",
      "name                          2175 non-null object\n",
      "doggo                         2175 non-null object\n",
      "floofer                       2175 non-null object\n",
      "pupper                        2175 non-null object\n",
      "puppo                         2175 non-null object\n",
      "favorite_count                2175 non-null int64\n",
      "retweet_count                 2175 non-null int64\n",
      "dtypes: datetime64[ns](2), int64(9), object(8)\n",
      "memory usage: 339.8+ KB\n"
     ]
    }
   ],
   "source": [
    "df_tweets_clean.timestamp = pd.to_datetime(df_tweets_clean.timestamp)\n",
    "df_tweets_clean.retweeted_status_timestamp = pd.to_datetime(df_tweets_clean.retweeted_status_timestamp)\n",
    "df_tweets_clean.info()"
   ]
  },
  {
   "cell_type": "markdown",
   "metadata": {},
   "source": [
    "#### Teste"
   ]
  },
  {
   "cell_type": "code",
   "execution_count": 302,
   "metadata": {
    "collapsed": true
   },
   "outputs": [],
   "source": [
    "assert ptypes.is_datetime64_any_dtype(df_tweets_clean.timestamp)\n",
    "assert ptypes.is_datetime64_any_dtype(df_tweets_clean.retweeted_status_timestamp)"
   ]
  },
  {
   "cell_type": "markdown",
   "metadata": {},
   "source": [
    "### 5. Ajustar tweets com denominador abaixo de 10"
   ]
  },
  {
   "cell_type": "code",
   "execution_count": 303,
   "metadata": {
    "collapsed": true
   },
   "outputs": [],
   "source": [
    "pd.set_option('display.max_colwidth', -1)"
   ]
  },
  {
   "cell_type": "code",
   "execution_count": 304,
   "metadata": {},
   "outputs": [
    {
     "data": {
      "text/html": [
       "<div>\n",
       "<style>\n",
       "    .dataframe thead tr:only-child th {\n",
       "        text-align: right;\n",
       "    }\n",
       "\n",
       "    .dataframe thead th {\n",
       "        text-align: left;\n",
       "    }\n",
       "\n",
       "    .dataframe tbody tr th {\n",
       "        vertical-align: top;\n",
       "    }\n",
       "</style>\n",
       "<table border=\"1\" class=\"dataframe\">\n",
       "  <thead>\n",
       "    <tr style=\"text-align: right;\">\n",
       "      <th></th>\n",
       "      <th>tweet_id</th>\n",
       "      <th>in_reply_to_status_id</th>\n",
       "      <th>in_reply_to_user_id</th>\n",
       "      <th>timestamp</th>\n",
       "      <th>source</th>\n",
       "      <th>text</th>\n",
       "      <th>retweeted_status_id</th>\n",
       "      <th>retweeted_status_user_id</th>\n",
       "      <th>retweeted_status_timestamp</th>\n",
       "      <th>expanded_urls</th>\n",
       "      <th>rating_numerator</th>\n",
       "      <th>rating_denominator</th>\n",
       "      <th>name</th>\n",
       "      <th>doggo</th>\n",
       "      <th>floofer</th>\n",
       "      <th>pupper</th>\n",
       "      <th>puppo</th>\n",
       "      <th>favorite_count</th>\n",
       "      <th>retweet_count</th>\n",
       "    </tr>\n",
       "  </thead>\n",
       "  <tbody>\n",
       "    <tr>\n",
       "      <th>313</th>\n",
       "      <td>835246439529840640</td>\n",
       "      <td>835245984028504064</td>\n",
       "      <td>26259576</td>\n",
       "      <td>2017-02-24 21:54:03</td>\n",
       "      <td>&lt;a href=\"http://twitter.com/download/iphone\" rel=\"nofollow\"&gt;Twitter for iPhone&lt;/a&gt;</td>\n",
       "      <td>@jonnysun @Lin_Manuel ok jomny I know you're excited but 960/00 isn't a valid rating, 13/10 is tho</td>\n",
       "      <td>0</td>\n",
       "      <td>0</td>\n",
       "      <td>NaT</td>\n",
       "      <td>NaN</td>\n",
       "      <td>960</td>\n",
       "      <td>0</td>\n",
       "      <td>None</td>\n",
       "      <td>None</td>\n",
       "      <td>None</td>\n",
       "      <td>None</td>\n",
       "      <td>None</td>\n",
       "      <td>2224</td>\n",
       "      <td>80</td>\n",
       "    </tr>\n",
       "    <tr>\n",
       "      <th>516</th>\n",
       "      <td>810984652412424192</td>\n",
       "      <td>0</td>\n",
       "      <td>0</td>\n",
       "      <td>2016-12-19 23:06:23</td>\n",
       "      <td>&lt;a href=\"http://twitter.com/download/iphone\" rel=\"nofollow\"&gt;Twitter for iPhone&lt;/a&gt;</td>\n",
       "      <td>Meet Sam. She smiles 24/7 &amp;amp; secretly aspires to be a reindeer. \\nKeep Sam smiling by clicking and sharing this link:\\nhttps://t.co/98tB8y7y7t https://t.co/LouL5vdvxx</td>\n",
       "      <td>0</td>\n",
       "      <td>0</td>\n",
       "      <td>NaT</td>\n",
       "      <td>https://www.gofundme.com/sams-smile,https://twitter.com/dog_rates/status/810984652412424192/photo/1</td>\n",
       "      <td>24</td>\n",
       "      <td>7</td>\n",
       "      <td>Sam</td>\n",
       "      <td>None</td>\n",
       "      <td>None</td>\n",
       "      <td>None</td>\n",
       "      <td>None</td>\n",
       "      <td>5788</td>\n",
       "      <td>1601</td>\n",
       "    </tr>\n",
       "    <tr>\n",
       "      <th>2335</th>\n",
       "      <td>666287406224695296</td>\n",
       "      <td>0</td>\n",
       "      <td>0</td>\n",
       "      <td>2015-11-16 16:11:11</td>\n",
       "      <td>&lt;a href=\"http://twitter.com/download/iphone\" rel=\"nofollow\"&gt;Twitter for iPhone&lt;/a&gt;</td>\n",
       "      <td>This is an Albanian 3 1/2 legged  Episcopalian. Loves well-polished hardwood flooring. Penis on the collar. 9/10 https://t.co/d9NcXFKwLv</td>\n",
       "      <td>0</td>\n",
       "      <td>0</td>\n",
       "      <td>NaT</td>\n",
       "      <td>https://twitter.com/dog_rates/status/666287406224695296/photo/1</td>\n",
       "      <td>1</td>\n",
       "      <td>2</td>\n",
       "      <td>an</td>\n",
       "      <td>None</td>\n",
       "      <td>None</td>\n",
       "      <td>None</td>\n",
       "      <td>None</td>\n",
       "      <td>149</td>\n",
       "      <td>64</td>\n",
       "    </tr>\n",
       "  </tbody>\n",
       "</table>\n",
       "</div>"
      ],
      "text/plain": [
       "                tweet_id  in_reply_to_status_id  in_reply_to_user_id  \\\n",
       "313   835246439529840640  835245984028504064     26259576              \n",
       "516   810984652412424192  0                      0                     \n",
       "2335  666287406224695296  0                      0                     \n",
       "\n",
       "               timestamp  \\\n",
       "313  2017-02-24 21:54:03   \n",
       "516  2016-12-19 23:06:23   \n",
       "2335 2015-11-16 16:11:11   \n",
       "\n",
       "                                                                                  source  \\\n",
       "313   <a href=\"http://twitter.com/download/iphone\" rel=\"nofollow\">Twitter for iPhone</a>   \n",
       "516   <a href=\"http://twitter.com/download/iphone\" rel=\"nofollow\">Twitter for iPhone</a>   \n",
       "2335  <a href=\"http://twitter.com/download/iphone\" rel=\"nofollow\">Twitter for iPhone</a>   \n",
       "\n",
       "                                                                                                                                                                           text  \\\n",
       "313   @jonnysun @Lin_Manuel ok jomny I know you're excited but 960/00 isn't a valid rating, 13/10 is tho                                                                          \n",
       "516   Meet Sam. She smiles 24/7 &amp; secretly aspires to be a reindeer. \\nKeep Sam smiling by clicking and sharing this link:\\nhttps://t.co/98tB8y7y7t https://t.co/LouL5vdvxx   \n",
       "2335  This is an Albanian 3 1/2 legged  Episcopalian. Loves well-polished hardwood flooring. Penis on the collar. 9/10 https://t.co/d9NcXFKwLv                                    \n",
       "\n",
       "      retweeted_status_id  retweeted_status_user_id  \\\n",
       "313   0                    0                          \n",
       "516   0                    0                          \n",
       "2335  0                    0                          \n",
       "\n",
       "     retweeted_status_timestamp  \\\n",
       "313  NaT                          \n",
       "516  NaT                          \n",
       "2335 NaT                          \n",
       "\n",
       "                                                                                            expanded_urls  \\\n",
       "313   NaN                                                                                                   \n",
       "516   https://www.gofundme.com/sams-smile,https://twitter.com/dog_rates/status/810984652412424192/photo/1   \n",
       "2335  https://twitter.com/dog_rates/status/666287406224695296/photo/1                                       \n",
       "\n",
       "      rating_numerator  rating_denominator  name doggo floofer pupper puppo  \\\n",
       "313   960               0                   None  None  None    None   None   \n",
       "516   24                7                   Sam   None  None    None   None   \n",
       "2335  1                 2                   an    None  None    None   None   \n",
       "\n",
       "      favorite_count  retweet_count  \n",
       "313   2224            80             \n",
       "516   5788            1601           \n",
       "2335  149             64             "
      ]
     },
     "execution_count": 304,
     "metadata": {},
     "output_type": "execute_result"
    }
   ],
   "source": [
    "df_tweets_clean[df_tweets_clean.rating_denominator < 10]"
   ]
  },
  {
   "cell_type": "markdown",
   "metadata": {},
   "source": [
    "Existem 3 tweets com denominador abaixo de 10:\n",
    "- 835246439529840640\n",
    "- 810984652412424192\n",
    "- 666287406224695296\n",
    "\n",
    "Podemos utilizar os dados obtidos através da API do Twitter para avaliar as notas corretamente."
   ]
  },
  {
   "cell_type": "markdown",
   "metadata": {},
   "source": [
    "#### Tweet 835246439529840640"
   ]
  },
  {
   "cell_type": "code",
   "execution_count": 305,
   "metadata": {},
   "outputs": [
    {
     "data": {
      "text/plain": [
       "305    @jonnysun @Lin_Manuel ok jomny I know you're excited but 960/00 isn't a valid rating, 13/10 is tho\n",
       "Name: full_text, dtype: object"
      ]
     },
     "execution_count": 305,
     "metadata": {},
     "output_type": "execute_result"
    }
   ],
   "source": [
    "df_tweet_data_from_api[df_tweet_data_from_api.id == 835246439529840640]['full_text']"
   ]
  },
  {
   "cell_type": "markdown",
   "metadata": {},
   "source": [
    "Este tweet foi uma resposta a dois outros usuários, onde o primeiro deu uma 13/10 e o segundo uma nota 960/00. Como não foi dada uma nota diretamente pelo usuário @WeRateDogs, podemos descartar este tweet como inválido."
   ]
  },
  {
   "cell_type": "code",
   "execution_count": 306,
   "metadata": {
    "collapsed": true
   },
   "outputs": [],
   "source": [
    "idx = df_tweets_clean[df_tweets_clean.tweet_id == 835246439529840640].index\n",
    "df_tweets_clean = df_tweets_clean.drop(idx)"
   ]
  },
  {
   "cell_type": "markdown",
   "metadata": {},
   "source": [
    "#### Teste"
   ]
  },
  {
   "cell_type": "code",
   "execution_count": 307,
   "metadata": {
    "collapsed": true
   },
   "outputs": [],
   "source": [
    "assert len(df_tweets_clean[df_tweets_clean.rating_denominator < 10]) == 2"
   ]
  },
  {
   "cell_type": "markdown",
   "metadata": {},
   "source": [
    "#### Tweet 810984652412424192"
   ]
  },
  {
   "cell_type": "code",
   "execution_count": 308,
   "metadata": {},
   "outputs": [
    {
     "data": {
      "text/plain": [
       "506    Meet Sam. She smiles 24/7 &amp; secretly aspires to be a reindeer. \\nKeep Sam smiling by clicking and sharing this link:\\nhttps://t.co/98tB8y7y7t https://t.co/LouL5vdvxx\n",
       "Name: full_text, dtype: object"
      ]
     },
     "execution_count": 308,
     "metadata": {},
     "output_type": "execute_result"
    }
   ],
   "source": [
    "df_tweet_data_from_api[df_tweet_data_from_api.id == 810984652412424192]['full_text']"
   ]
  },
  {
   "cell_type": "markdown",
   "metadata": {},
   "source": [
    "Neste caso, o texto \"24/7\" foi interpretado incorretamente como a nota dada. Como não há uma nota definida no tweet para o animal, podemos descartá-lo."
   ]
  },
  {
   "cell_type": "code",
   "execution_count": 309,
   "metadata": {
    "collapsed": true
   },
   "outputs": [],
   "source": [
    "idx = df_tweets_clean[df_tweets_clean.tweet_id == 810984652412424192].index\n",
    "df_tweets_clean = df_tweets_clean.drop(idx)"
   ]
  },
  {
   "cell_type": "markdown",
   "metadata": {},
   "source": [
    "#### Teste"
   ]
  },
  {
   "cell_type": "code",
   "execution_count": 310,
   "metadata": {
    "collapsed": true
   },
   "outputs": [],
   "source": [
    "assert len(df_tweets_clean[df_tweets_clean.rating_denominator < 10]) == 1"
   ]
  },
  {
   "cell_type": "markdown",
   "metadata": {},
   "source": [
    "#### Tweet 666287406224695296"
   ]
  },
  {
   "cell_type": "code",
   "execution_count": 311,
   "metadata": {},
   "outputs": [
    {
     "data": {
      "text/plain": [
       "2319    This is an Albanian 3 1/2 legged  Episcopalian. Loves well-polished hardwood flooring. Penis on the collar. 9/10 https://t.co/d9NcXFKwLv\n",
       "Name: full_text, dtype: object"
      ]
     },
     "execution_count": 311,
     "metadata": {},
     "output_type": "execute_result"
    }
   ],
   "source": [
    "df_tweet_data_from_api[df_tweet_data_from_api.id == 666287406224695296]['full_text']"
   ]
  },
  {
   "cell_type": "markdown",
   "metadata": {},
   "source": [
    "Conforme o texto obtido a partir da API, a nota correta é 9/10."
   ]
  },
  {
   "cell_type": "code",
   "execution_count": 312,
   "metadata": {
    "collapsed": true
   },
   "outputs": [],
   "source": [
    "tweet_666287406224695296 = df_tweets_clean[df_tweets_clean.tweet_id == 666287406224695296].index"
   ]
  },
  {
   "cell_type": "code",
   "execution_count": 313,
   "metadata": {
    "collapsed": true
   },
   "outputs": [],
   "source": [
    "df_tweets_clean.loc[tweet_666287406224695296, 'rating_numerator'] = 9\n",
    "df_tweets_clean.loc[tweet_666287406224695296, 'rating_denominator'] = 10"
   ]
  },
  {
   "cell_type": "markdown",
   "metadata": {},
   "source": [
    "#### Teste"
   ]
  },
  {
   "cell_type": "code",
   "execution_count": 314,
   "metadata": {
    "collapsed": true
   },
   "outputs": [],
   "source": [
    "assert len(df_tweets_clean[df_tweets_clean.rating_denominator < 10]) == 0"
   ]
  },
  {
   "cell_type": "code",
   "execution_count": 315,
   "metadata": {
    "collapsed": true
   },
   "outputs": [],
   "source": [
    "pd.reset_option('display.max_colwidth')"
   ]
  },
  {
   "cell_type": "markdown",
   "metadata": {},
   "source": [
    "### 6. Ajustar tweets com denominador acima de 10"
   ]
  },
  {
   "cell_type": "code",
   "execution_count": 316,
   "metadata": {
    "collapsed": true
   },
   "outputs": [],
   "source": [
    "def adjust_denominator_to_10(row):\n",
    "    current_numerator = row['rating_numerator']\n",
    "    current_denominator = row['rating_denominator']\n",
    "    if current_denominator > 10:\n",
    "        new_numerator = int(current_numerator * 10 / current_denominator)\n",
    "        row['rating_numerator'] = new_numerator\n",
    "        row['rating_denominator'] = 10\n",
    "    return row"
   ]
  },
  {
   "cell_type": "code",
   "execution_count": 317,
   "metadata": {},
   "outputs": [
    {
     "name": "stdout",
     "output_type": "stream",
     "text": [
      "<class 'pandas.core.frame.DataFrame'>\n",
      "Int64Index: 2173 entries, 0 to 2355\n",
      "Data columns (total 19 columns):\n",
      "tweet_id                      2173 non-null int64\n",
      "in_reply_to_status_id         2173 non-null int64\n",
      "in_reply_to_user_id           2173 non-null int64\n",
      "timestamp                     2173 non-null datetime64[ns]\n",
      "source                        2173 non-null object\n",
      "text                          2173 non-null object\n",
      "retweeted_status_id           2173 non-null int64\n",
      "retweeted_status_user_id      2173 non-null int64\n",
      "retweeted_status_timestamp    0 non-null datetime64[ns]\n",
      "expanded_urls                 2116 non-null object\n",
      "rating_numerator              2173 non-null int64\n",
      "rating_denominator            2173 non-null int64\n",
      "name                          2173 non-null object\n",
      "doggo                         2173 non-null object\n",
      "floofer                       2173 non-null object\n",
      "pupper                        2173 non-null object\n",
      "puppo                         2173 non-null object\n",
      "favorite_count                2173 non-null int64\n",
      "retweet_count                 2173 non-null int64\n",
      "dtypes: datetime64[ns](2), int64(9), object(8)\n",
      "memory usage: 419.5+ KB\n"
     ]
    }
   ],
   "source": [
    "df_tweets_clean = df_tweets_clean.apply(adjust_denominator_to_10, axis=1)\n",
    "df_tweets_clean.info()"
   ]
  },
  {
   "cell_type": "markdown",
   "metadata": {},
   "source": [
    "#### Teste"
   ]
  },
  {
   "cell_type": "code",
   "execution_count": 318,
   "metadata": {
    "collapsed": true
   },
   "outputs": [],
   "source": [
    "assert len(df_tweets_clean[df_tweets_clean.rating_denominator > 10]) == 0"
   ]
  },
  {
   "cell_type": "markdown",
   "metadata": {},
   "source": [
    "### 7. Alguns tweets não tem predição"
   ]
  },
  {
   "cell_type": "code",
   "execution_count": 319,
   "metadata": {
    "collapsed": true
   },
   "outputs": [],
   "source": [
    "df_tweets_clean = df_tweets_clean[df_tweets_clean.tweet_id.isin(df_predictions_clean.tweet_id)]"
   ]
  },
  {
   "cell_type": "markdown",
   "metadata": {},
   "source": [
    "#### Teste"
   ]
  },
  {
   "cell_type": "code",
   "execution_count": 320,
   "metadata": {
    "collapsed": true
   },
   "outputs": [],
   "source": [
    "assert len(df_tweets_clean[~df_tweets_clean.tweet_id.isin(df_predictions_clean.tweet_id)]) == 0"
   ]
  },
  {
   "cell_type": "markdown",
   "metadata": {},
   "source": [
    "## Problemas de Arrumação"
   ]
  },
  {
   "cell_type": "markdown",
   "metadata": {},
   "source": [
    "### 1. Ajuste das predições - 3 colunas para predição, intervalo de confiança e variável booleana se predição é de um cachorro"
   ]
  },
  {
   "cell_type": "code",
   "execution_count": 321,
   "metadata": {},
   "outputs": [
    {
     "data": {
      "text/plain": [
       "6225"
      ]
     },
     "execution_count": 321,
     "metadata": {},
     "output_type": "execute_result"
    }
   ],
   "source": [
    "df_predictions_1 = df_predictions_clean[[\"tweet_id\", \"jpg_url\", \"img_num\", \"p1\", \"p1_conf\", \"p1_dog\"]].copy()\n",
    "df_predictions_2 = df_predictions_clean[[\"tweet_id\", \"jpg_url\", \"img_num\", \"p2\", \"p2_conf\", \"p2_dog\"]].copy()\n",
    "df_predictions_3 = df_predictions_clean[[\"tweet_id\", \"jpg_url\", \"img_num\", \"p3\", \"p3_conf\", \"p3_dog\"]].copy()\n",
    "\n",
    "df_predictions_1.rename(columns={'p1': 'prediction', 'p1_conf': 'confidence_interval', 'p1_dog': 'is_dog_race'}, inplace=True)\n",
    "df_predictions_2.rename(columns={'p2': 'prediction', 'p2_conf': 'confidence_interval', 'p2_dog': 'is_dog_race'}, inplace=True)\n",
    "df_predictions_3.rename(columns={'p3': 'prediction', 'p3_conf': 'confidence_interval', 'p3_dog': 'is_dog_race'}, inplace=True)\n",
    "\n",
    "df_predictions_clean = pd.concat([df_predictions_1, df_predictions_2, df_predictions_3])\n",
    "df_predictions_clean.shape[0]"
   ]
  },
  {
   "cell_type": "markdown",
   "metadata": {},
   "source": [
    "#### Teste"
   ]
  },
  {
   "cell_type": "code",
   "execution_count": 322,
   "metadata": {
    "collapsed": true
   },
   "outputs": [],
   "source": [
    "assert set(['prediction','confidence_interval', 'is_dog_race']).issubset(df_predictions_clean.columns)"
   ]
  },
  {
   "cell_type": "markdown",
   "metadata": {},
   "source": [
    "### 2. Ajuste dos tweets - nova coluna para \"estágio\" do animal"
   ]
  },
  {
   "cell_type": "code",
   "execution_count": 323,
   "metadata": {
    "collapsed": true
   },
   "outputs": [],
   "source": [
    "id_vars = set(df_tweets_clean.columns).difference(set(['pupper','puppo', 'floofer', 'doggo']))\n",
    "df_tweets_clean = pd.melt(df_tweets_clean, id_vars=id_vars, var_name='phase', value_name='is_in_phase')"
   ]
  },
  {
   "cell_type": "code",
   "execution_count": 324,
   "metadata": {
    "collapsed": true
   },
   "outputs": [],
   "source": [
    "def change_to_bool(row):\n",
    "    row['is_in_phase'] = (row['is_in_phase'] != 'None')\n",
    "    return row"
   ]
  },
  {
   "cell_type": "code",
   "execution_count": 325,
   "metadata": {
    "collapsed": true
   },
   "outputs": [],
   "source": [
    "df_tweets_clean = df_tweets_clean.apply(change_to_bool, axis=1)"
   ]
  },
  {
   "cell_type": "markdown",
   "metadata": {},
   "source": [
    "#### Teste"
   ]
  },
  {
   "cell_type": "code",
   "execution_count": 326,
   "metadata": {
    "collapsed": true
   },
   "outputs": [],
   "source": [
    "assert set(['phase','is_in_phase']).issubset(df_tweets_clean.columns)"
   ]
  },
  {
   "cell_type": "markdown",
   "metadata": {},
   "source": [
    "## Problema de Qualidade"
   ]
  },
  {
   "cell_type": "markdown",
   "metadata": {},
   "source": [
    "### 8. Previsões serão duplicadas após arrumar o DataFrame de previsões"
   ]
  },
  {
   "cell_type": "code",
   "execution_count": 328,
   "metadata": {
    "collapsed": true
   },
   "outputs": [],
   "source": [
    "df_predictions_clean = df_predictions_clean[df_predictions_clean.is_dog_race]"
   ]
  },
  {
   "cell_type": "markdown",
   "metadata": {},
   "source": [
    "#### Teste"
   ]
  },
  {
   "cell_type": "code",
   "execution_count": 329,
   "metadata": {
    "collapsed": true
   },
   "outputs": [],
   "source": [
    "assert len(df_predictions_clean[~df_predictions_clean.is_dog_race]) == 0"
   ]
  },
  {
   "cell_type": "markdown",
   "metadata": {},
   "source": [
    "# Dataframes após wrangling"
   ]
  },
  {
   "cell_type": "code",
   "execution_count": 331,
   "metadata": {},
   "outputs": [],
   "source": [
    "df_dogs = df_tweets_clean[df_tweets_clean.is_in_phase]\n",
    "df_dogs_with_predictions = pd.merge(df_dogs, df_valid_predictions, on='tweet_id')\n",
    "df_best_predictions = df_dogs_with_predictions.groupby('tweet_id').apply(lambda x: x.nlargest(1, columns=['confidence_interval']))"
   ]
  },
  {
   "cell_type": "code",
   "execution_count": 332,
   "metadata": {
    "collapsed": true
   },
   "outputs": [],
   "source": [
    "df_best_predictions.to_csv('twitter_archive_master.csv', index=False)"
   ]
  },
  {
   "cell_type": "markdown",
   "metadata": {},
   "source": [
    "# Análise"
   ]
  },
  {
   "cell_type": "markdown",
   "metadata": {},
   "source": [
    "## Insight 1 - Top 10 previsões mais comuns de raças no conjunto"
   ]
  },
  {
   "cell_type": "code",
   "execution_count": 334,
   "metadata": {},
   "outputs": [
    {
     "data": {
      "text/plain": [
       "golden_retriever      34\n",
       "Labrador_retriever    19\n",
       "Pembroke              13\n",
       "Pomeranian            11\n",
       "pug                   11\n",
       "Chihuahua              9\n",
       "toy_poodle             8\n",
       "German_shepherd        7\n",
       "Lakeland_terrier       6\n",
       "Eskimo_dog             6\n",
       "Name: prediction, dtype: int64"
      ]
     },
     "execution_count": 334,
     "metadata": {},
     "output_type": "execute_result"
    }
   ],
   "source": [
    "df_best_predictions.prediction.value_counts().nlargest(10)"
   ]
  },
  {
   "cell_type": "markdown",
   "metadata": {},
   "source": [
    "## Insight 2 - Raças mais previstas por estágio do animal"
   ]
  },
  {
   "cell_type": "code",
   "execution_count": 335,
   "metadata": {},
   "outputs": [
    {
     "data": {
      "text/plain": [
       "phase\n",
       "doggo        golden_retriever\n",
       "floofer               Samoyed\n",
       "pupper       golden_retriever\n",
       "puppo      Labrador_retriever\n",
       "dtype: object"
      ]
     },
     "execution_count": 335,
     "metadata": {},
     "output_type": "execute_result"
    }
   ],
   "source": [
    "df_best_predictions.groupby('phase').apply(lambda x: x.prediction.value_counts().index[0])"
   ]
  },
  {
   "cell_type": "markdown",
   "metadata": {},
   "source": [
    "## Insight 3 - Média de tweets favoritos e retweets por estágio"
   ]
  },
  {
   "cell_type": "code",
   "execution_count": 336,
   "metadata": {},
   "outputs": [],
   "source": [
    "fav_count = best_predictions.groupby('phase').apply(lambda x: x.favorite_count.mean()).reset_index()\n",
    "ret_count = best_predictions.groupby('phase').apply(lambda x: x.retweet_count.mean()).reset_index()\n",
    "df = pd.merge(fav_count, ret_count, on='phase').rename(columns={'0_x': '# favoritos', '0_y': '# retweets'})"
   ]
  },
  {
   "cell_type": "code",
   "execution_count": 338,
   "metadata": {},
   "outputs": [
    {
     "data": {
      "text/plain": [
       "Text(0.5,1,'Número médio de tweets favoritos e retweets por estágio')"
      ]
     },
     "execution_count": 338,
     "metadata": {},
     "output_type": "execute_result"
    },
    {
     "data": {
      "image/png": "[encoded data removed]",
      "text/plain": [
       "<matplotlib.figure.Figure at 0x1a22a06e48>"
      ]
     },
     "metadata": {},
     "output_type": "display_data"
    }
   ],
   "source": [
    "ax = df.plot.bar()\n",
    "ax.set_xticklabels(df.phase)\n",
    "ax.set_xlabel('Estágio')\n",
    "ax.set_ylabel('Número')\n",
    "ax.set_title('Número médio de tweets favoritos e retweets por estágio')"
   ]
  }
 ],
 "metadata": {
  "kernelspec": {
   "display_name": "Python 3",
   "language": "python",
   "name": "python3"
  },
  "language_info": {
   "codemirror_mode": {
    "name": "ipython",
    "version": 3
   },
   "file_extension": ".py",
   "mimetype": "text/x-python",
   "name": "python",
   "nbconvert_exporter": "python",
   "pygments_lexer": "ipython3",
   "version": "3.6.3"
  }
 },
 "nbformat": 4,
 "nbformat_minor": 2
}
