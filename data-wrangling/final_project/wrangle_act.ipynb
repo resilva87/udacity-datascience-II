{
 "cells": [
  {
   "cell_type": "markdown",
   "metadata": {},
   "source": [
    "# Introdução"
   ]
  },
  {
   "cell_type": "markdown",
   "metadata": {},
   "source": [
    "# Dependências"
   ]
  },
  {
   "cell_type": "code",
   "execution_count": 2,
   "metadata": {},
   "outputs": [
    {
     "name": "stdout",
     "output_type": "stream",
     "text": [
      "Requirement already satisfied: pandas in /Users/resilva87/Apps/anaconda3/lib/python3.6/site-packages\n",
      "Requirement already satisfied: python-dateutil>=2 in /Users/resilva87/Apps/anaconda3/lib/python3.6/site-packages (from pandas)\n",
      "Requirement already satisfied: pytz>=2011k in /Users/resilva87/Apps/anaconda3/lib/python3.6/site-packages (from pandas)\n",
      "Requirement already satisfied: numpy>=1.7.0 in /Users/resilva87/Apps/anaconda3/lib/python3.6/site-packages (from pandas)\n",
      "Requirement already satisfied: six>=1.5 in /Users/resilva87/Apps/anaconda3/lib/python3.6/site-packages (from python-dateutil>=2->pandas)\n",
      "\u001b[33mYou are using pip version 9.0.3, however version 10.0.1 is available.\n",
      "You should consider upgrading via the 'pip install --upgrade pip' command.\u001b[0m\n",
      "Requirement already satisfied: numpy in /Users/resilva87/Apps/anaconda3/lib/python3.6/site-packages\n",
      "\u001b[33mYou are using pip version 9.0.3, however version 10.0.1 is available.\n",
      "You should consider upgrading via the 'pip install --upgrade pip' command.\u001b[0m\n",
      "Requirement already satisfied: tweepy in /Users/resilva87/Apps/anaconda3/lib/python3.6/site-packages\n",
      "Requirement already satisfied: PySocks>=1.5.7 in /Users/resilva87/Apps/anaconda3/lib/python3.6/site-packages (from tweepy)\n",
      "Requirement already satisfied: requests-oauthlib>=0.7.0 in /Users/resilva87/Apps/anaconda3/lib/python3.6/site-packages (from tweepy)\n",
      "Requirement already satisfied: requests>=2.11.1 in /Users/resilva87/Apps/anaconda3/lib/python3.6/site-packages (from tweepy)\n",
      "Requirement already satisfied: six>=1.10.0 in /Users/resilva87/Apps/anaconda3/lib/python3.6/site-packages (from tweepy)\n",
      "Requirement already satisfied: oauthlib>=0.6.2 in /Users/resilva87/Apps/anaconda3/lib/python3.6/site-packages (from requests-oauthlib>=0.7.0->tweepy)\n",
      "Requirement already satisfied: chardet<3.1.0,>=3.0.2 in /Users/resilva87/Apps/anaconda3/lib/python3.6/site-packages (from requests>=2.11.1->tweepy)\n",
      "Requirement already satisfied: idna<2.7,>=2.5 in /Users/resilva87/Apps/anaconda3/lib/python3.6/site-packages (from requests>=2.11.1->tweepy)\n",
      "Requirement already satisfied: urllib3<1.23,>=1.21.1 in /Users/resilva87/Apps/anaconda3/lib/python3.6/site-packages (from requests>=2.11.1->tweepy)\n",
      "Requirement already satisfied: certifi>=2017.4.17 in /Users/resilva87/Apps/anaconda3/lib/python3.6/site-packages (from requests>=2.11.1->tweepy)\n",
      "\u001b[33mYou are using pip version 9.0.3, however version 10.0.1 is available.\n",
      "You should consider upgrading via the 'pip install --upgrade pip' command.\u001b[0m\n",
      "Requirement already satisfied: requests in /Users/resilva87/Apps/anaconda3/lib/python3.6/site-packages\n",
      "Requirement already satisfied: chardet<3.1.0,>=3.0.2 in /Users/resilva87/Apps/anaconda3/lib/python3.6/site-packages (from requests)\n",
      "Requirement already satisfied: idna<2.7,>=2.5 in /Users/resilva87/Apps/anaconda3/lib/python3.6/site-packages (from requests)\n",
      "Requirement already satisfied: urllib3<1.23,>=1.21.1 in /Users/resilva87/Apps/anaconda3/lib/python3.6/site-packages (from requests)\n",
      "Requirement already satisfied: certifi>=2017.4.17 in /Users/resilva87/Apps/anaconda3/lib/python3.6/site-packages (from requests)\n",
      "\u001b[33mYou are using pip version 9.0.3, however version 10.0.1 is available.\n",
      "You should consider upgrading via the 'pip install --upgrade pip' command.\u001b[0m\n"
     ]
    }
   ],
   "source": [
    "import sys\n",
    "!{sys.executable} -m pip install pandas\n",
    "!{sys.executable} -m pip install numpy\n",
    "!{sys.executable} -m pip install tweepy\n",
    "!{sys.executable} -m pip install requests"
   ]
  },
  {
   "cell_type": "code",
   "execution_count": 3,
   "metadata": {},
   "outputs": [],
   "source": [
    "import pandas as pd\n",
    "import numpy as np\n",
    "import requests\n",
    "import tweepy\n",
    "import json"
   ]
  },
  {
   "cell_type": "markdown",
   "metadata": {},
   "source": [
    "# Coleta"
   ]
  },
  {
   "cell_type": "code",
   "execution_count": 4,
   "metadata": {},
   "outputs": [],
   "source": [
    "twitter_enhanced = pd.read_csv('twitter-archive-enhanced.csv')"
   ]
  },
  {
   "cell_type": "code",
   "execution_count": 7,
   "metadata": {},
   "outputs": [],
   "source": [
    "predictions_url = 'https://d17h27t6h515a5.cloudfront.net/topher/2017/August/599fd2ad_image-predictions/image-predictions.tsv'\n",
    "response = requests.get(predictions_url)\n",
    "with open('image_predictions.tsv', 'wb') as file:\n",
    "    file.write(response.content)"
   ]
  },
  {
   "cell_type": "code",
   "execution_count": 10,
   "metadata": {},
   "outputs": [],
   "source": [
    "image_predictions = pd.read_csv('image_predictions.tsv', sep='\\t')"
   ]
  },
  {
   "cell_type": "code",
   "execution_count": 11,
   "metadata": {},
   "outputs": [
    {
     "data": {
      "text/html": [
       "<div>\n",
       "<style>\n",
       "    .dataframe thead tr:only-child th {\n",
       "        text-align: right;\n",
       "    }\n",
       "\n",
       "    .dataframe thead th {\n",
       "        text-align: left;\n",
       "    }\n",
       "\n",
       "    .dataframe tbody tr th {\n",
       "        vertical-align: top;\n",
       "    }\n",
       "</style>\n",
       "<table border=\"1\" class=\"dataframe\">\n",
       "  <thead>\n",
       "    <tr style=\"text-align: right;\">\n",
       "      <th></th>\n",
       "      <th>tweet_id</th>\n",
       "      <th>jpg_url</th>\n",
       "      <th>img_num</th>\n",
       "      <th>p1</th>\n",
       "      <th>p1_conf</th>\n",
       "      <th>p1_dog</th>\n",
       "      <th>p2</th>\n",
       "      <th>p2_conf</th>\n",
       "      <th>p2_dog</th>\n",
       "      <th>p3</th>\n",
       "      <th>p3_conf</th>\n",
       "      <th>p3_dog</th>\n",
       "    </tr>\n",
       "  </thead>\n",
       "  <tbody>\n",
       "    <tr>\n",
       "      <th>816</th>\n",
       "      <td>692828166163931137</td>\n",
       "      <td>https://pbs.twimg.com/media/CZ1riVOWwAATfGf.jpg</td>\n",
       "      <td>1</td>\n",
       "      <td>Samoyed</td>\n",
       "      <td>0.985857</td>\n",
       "      <td>True</td>\n",
       "      <td>Arctic_fox</td>\n",
       "      <td>0.007852</td>\n",
       "      <td>False</td>\n",
       "      <td>white_wolf</td>\n",
       "      <td>0.003278</td>\n",
       "      <td>False</td>\n",
       "    </tr>\n",
       "    <tr>\n",
       "      <th>632</th>\n",
       "      <td>680959110691590145</td>\n",
       "      <td>https://pbs.twimg.com/media/CXNAsm6WsAEST9R.jpg</td>\n",
       "      <td>2</td>\n",
       "      <td>carousel</td>\n",
       "      <td>0.500992</td>\n",
       "      <td>False</td>\n",
       "      <td>feather_boa</td>\n",
       "      <td>0.064390</td>\n",
       "      <td>False</td>\n",
       "      <td>pug</td>\n",
       "      <td>0.044357</td>\n",
       "      <td>True</td>\n",
       "    </tr>\n",
       "    <tr>\n",
       "      <th>356</th>\n",
       "      <td>672604026190569472</td>\n",
       "      <td>https://pbs.twimg.com/media/CVWRyylWIAAMltv.jpg</td>\n",
       "      <td>1</td>\n",
       "      <td>toy_poodle</td>\n",
       "      <td>0.820158</td>\n",
       "      <td>True</td>\n",
       "      <td>miniature_poodle</td>\n",
       "      <td>0.178404</td>\n",
       "      <td>True</td>\n",
       "      <td>toilet_tissue</td>\n",
       "      <td>0.000291</td>\n",
       "      <td>False</td>\n",
       "    </tr>\n",
       "  </tbody>\n",
       "</table>\n",
       "</div>"
      ],
      "text/plain": [
       "               tweet_id                                          jpg_url  \\\n",
       "816  692828166163931137  https://pbs.twimg.com/media/CZ1riVOWwAATfGf.jpg   \n",
       "632  680959110691590145  https://pbs.twimg.com/media/CXNAsm6WsAEST9R.jpg   \n",
       "356  672604026190569472  https://pbs.twimg.com/media/CVWRyylWIAAMltv.jpg   \n",
       "\n",
       "     img_num          p1   p1_conf  p1_dog                p2   p2_conf  \\\n",
       "816        1     Samoyed  0.985857    True        Arctic_fox  0.007852   \n",
       "632        2    carousel  0.500992   False       feather_boa  0.064390   \n",
       "356        1  toy_poodle  0.820158    True  miniature_poodle  0.178404   \n",
       "\n",
       "     p2_dog             p3   p3_conf  p3_dog  \n",
       "816   False     white_wolf  0.003278   False  \n",
       "632   False            pug  0.044357    True  \n",
       "356    True  toilet_tissue  0.000291   False  "
      ]
     },
     "execution_count": 11,
     "metadata": {},
     "output_type": "execute_result"
    }
   ],
   "source": [
    "image_predictions.sample(3)"
   ]
  },
  {
   "cell_type": "markdown",
   "metadata": {},
   "source": [
    "# Avaliação"
   ]
  },
  {
   "cell_type": "markdown",
   "metadata": {},
   "source": [
    "# Limpeza"
   ]
  },
  {
   "cell_type": "code",
   "execution_count": null,
   "metadata": {},
   "outputs": [],
   "source": []
  }
 ],
 "metadata": {
  "kernelspec": {
   "display_name": "Python 3",
   "language": "python",
   "name": "python3"
  },
  "language_info": {
   "codemirror_mode": {
    "name": "ipython",
    "version": 3
   },
   "file_extension": ".py",
   "mimetype": "text/x-python",
   "name": "python",
   "nbconvert_exporter": "python",
   "pygments_lexer": "ipython3",
   "version": "3.6.3"
  }
 },
 "nbformat": 4,
 "nbformat_minor": 2
}
